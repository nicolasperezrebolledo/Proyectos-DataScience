version https://git-lfs.github.com/spec/v1
oid sha256:dddad15def15022f8dc12d6827b19efbde8f0660e9a23aea5da624c3504292fe
size 347962
