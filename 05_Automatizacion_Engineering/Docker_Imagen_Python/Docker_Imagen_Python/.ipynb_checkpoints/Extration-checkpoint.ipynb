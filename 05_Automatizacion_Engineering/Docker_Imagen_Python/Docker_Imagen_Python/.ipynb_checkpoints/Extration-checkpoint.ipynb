version https://git-lfs.github.com/spec/v1
oid sha256:66471238a972ee95869b52cbfc61856a89de6c25a4cb822f1761b7b7d2a36305
size 11126
