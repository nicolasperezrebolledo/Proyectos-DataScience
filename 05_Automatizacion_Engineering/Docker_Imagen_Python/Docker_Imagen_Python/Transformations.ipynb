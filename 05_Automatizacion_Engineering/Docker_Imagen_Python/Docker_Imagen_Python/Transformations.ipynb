version https://git-lfs.github.com/spec/v1
oid sha256:3bff17523f7fbf15fd666707dbb3370c2821671a2a6aa5a9c6d3bae5ae7ab4ff
size 4919
