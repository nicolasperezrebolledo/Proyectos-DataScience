version https://git-lfs.github.com/spec/v1
oid sha256:6284df6da6a58c6e05b59aa20807b3ffbeffeb3d039ee30c9308998c0ae52169
size 523198
